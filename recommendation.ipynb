{
 "cells": [
  {
   "cell_type": "code",
   "execution_count": 54,
   "id": "21ae9d75-5aa1-41f2-be58-437ffef00698",
   "metadata": {},
   "outputs": [],
   "source": [
    "import pandas as pd\n",
    "import seaborn as sns\n",
    "import plotly.express as px \n",
    "import matplotlib.pyplot as plt\n",
    "%matplotlib inline\n",
    "\n",
    "from sklearn.cluster import KMeans\n",
    "from sklearn.preprocessing import StandardScaler\n",
    "from sklearn.pipeline import Pipeline\n",
    "from sklearn.manifold import TSNE\n",
    "from sklearn.decomposition import PCA\n",
    "from sklearn.metrics import euclidean_distances\n",
    "from scipy.spatial.distance import cdist\n"
   ]
  },
  {
   "cell_type": "code",
   "execution_count": 55,
   "id": "114f87db-13bf-446a-b001-5f761e5f53b6",
   "metadata": {},
   "outputs": [],
   "source": [
    "df=pd.read_csv(r\"C:\\Users\\KOWSALYA\\kowsi personal\\music_recommendation_system\\spotify_million_dataset\\spotify_millsongdata.csv\")"
   ]
  },
  {
   "cell_type": "code",
   "execution_count": 56,
   "id": "6f556934-7215-4cba-928e-987f1956a4ac",
   "metadata": {},
   "outputs": [
    {
     "data": {
      "text/html": [
       "<div>\n",
       "<style scoped>\n",
       "    .dataframe tbody tr th:only-of-type {\n",
       "        vertical-align: middle;\n",
       "    }\n",
       "\n",
       "    .dataframe tbody tr th {\n",
       "        vertical-align: top;\n",
       "    }\n",
       "\n",
       "    .dataframe thead th {\n",
       "        text-align: right;\n",
       "    }\n",
       "</style>\n",
       "<table border=\"1\" class=\"dataframe\">\n",
       "  <thead>\n",
       "    <tr style=\"text-align: right;\">\n",
       "      <th></th>\n",
       "      <th>artist</th>\n",
       "      <th>song</th>\n",
       "      <th>link</th>\n",
       "      <th>text</th>\n",
       "    </tr>\n",
       "  </thead>\n",
       "  <tbody>\n",
       "    <tr>\n",
       "      <th>0</th>\n",
       "      <td>ABBA</td>\n",
       "      <td>Ahe's My Kind Of Girl</td>\n",
       "      <td>/a/abba/ahes+my+kind+of+girl_20598417.html</td>\n",
       "      <td>Look at her face, it's a wonderful face  \\r\\nA...</td>\n",
       "    </tr>\n",
       "    <tr>\n",
       "      <th>1</th>\n",
       "      <td>ABBA</td>\n",
       "      <td>Andante, Andante</td>\n",
       "      <td>/a/abba/andante+andante_20002708.html</td>\n",
       "      <td>Take it easy with me, please  \\r\\nTouch me gen...</td>\n",
       "    </tr>\n",
       "    <tr>\n",
       "      <th>2</th>\n",
       "      <td>ABBA</td>\n",
       "      <td>As Good As New</td>\n",
       "      <td>/a/abba/as+good+as+new_20003033.html</td>\n",
       "      <td>I'll never know why I had to go  \\r\\nWhy I had...</td>\n",
       "    </tr>\n",
       "    <tr>\n",
       "      <th>3</th>\n",
       "      <td>ABBA</td>\n",
       "      <td>Bang</td>\n",
       "      <td>/a/abba/bang_20598415.html</td>\n",
       "      <td>Making somebody happy is a question of give an...</td>\n",
       "    </tr>\n",
       "    <tr>\n",
       "      <th>4</th>\n",
       "      <td>ABBA</td>\n",
       "      <td>Bang-A-Boomerang</td>\n",
       "      <td>/a/abba/bang+a+boomerang_20002668.html</td>\n",
       "      <td>Making somebody happy is a question of give an...</td>\n",
       "    </tr>\n",
       "  </tbody>\n",
       "</table>\n",
       "</div>"
      ],
      "text/plain": [
       "  artist                   song                                        link  \\\n",
       "0   ABBA  Ahe's My Kind Of Girl  /a/abba/ahes+my+kind+of+girl_20598417.html   \n",
       "1   ABBA       Andante, Andante       /a/abba/andante+andante_20002708.html   \n",
       "2   ABBA         As Good As New        /a/abba/as+good+as+new_20003033.html   \n",
       "3   ABBA                   Bang                  /a/abba/bang_20598415.html   \n",
       "4   ABBA       Bang-A-Boomerang      /a/abba/bang+a+boomerang_20002668.html   \n",
       "\n",
       "                                                text  \n",
       "0  Look at her face, it's a wonderful face  \\r\\nA...  \n",
       "1  Take it easy with me, please  \\r\\nTouch me gen...  \n",
       "2  I'll never know why I had to go  \\r\\nWhy I had...  \n",
       "3  Making somebody happy is a question of give an...  \n",
       "4  Making somebody happy is a question of give an...  "
      ]
     },
     "execution_count": 56,
     "metadata": {},
     "output_type": "execute_result"
    }
   ],
   "source": [
    "df.head(5)"
   ]
  },
  {
   "cell_type": "code",
   "execution_count": 57,
   "id": "201b68cc-8ac9-4c9f-b072-c9113bd3d96d",
   "metadata": {},
   "outputs": [
    {
     "name": "stdout",
     "output_type": "stream",
     "text": [
      "<class 'pandas.core.frame.DataFrame'>\n",
      "RangeIndex: 57650 entries, 0 to 57649\n",
      "Data columns (total 4 columns):\n",
      " #   Column  Non-Null Count  Dtype \n",
      "---  ------  --------------  ----- \n",
      " 0   artist  57650 non-null  object\n",
      " 1   song    57650 non-null  object\n",
      " 2   link    57650 non-null  object\n",
      " 3   text    57650 non-null  object\n",
      "dtypes: object(4)\n",
      "memory usage: 1.8+ MB\n",
      "None\n"
     ]
    }
   ],
   "source": [
    "print(df.info())"
   ]
  },
  {
   "cell_type": "code",
   "execution_count": 58,
   "id": "e34317ab-afc5-4200-bf93-f10f3ee329ca",
   "metadata": {},
   "outputs": [
    {
     "data": {
      "text/plain": [
       "(57650, 4)"
      ]
     },
     "execution_count": 58,
     "metadata": {},
     "output_type": "execute_result"
    }
   ],
   "source": [
    "df.shape\n"
   ]
  },
  {
   "cell_type": "code",
   "execution_count": 59,
   "id": "09edb16f-8400-4dfd-9f39-5a20c438d5ca",
   "metadata": {},
   "outputs": [
    {
     "data": {
      "text/plain": [
       "artist    0\n",
       "song      0\n",
       "link      0\n",
       "text      0\n",
       "dtype: int64"
      ]
     },
     "execution_count": 59,
     "metadata": {},
     "output_type": "execute_result"
    }
   ],
   "source": [
    "df.isnull().sum()"
   ]
  },
  {
   "cell_type": "code",
   "execution_count": 60,
   "id": "b01362d5-f60d-4f1d-a2e6-ae4d8fa1f528",
   "metadata": {},
   "outputs": [],
   "source": [
    "df =df.sample(5000).drop('link', axis=1).reset_index(drop=True)\n"
   ]
  },
  {
   "cell_type": "code",
   "execution_count": 61,
   "id": "31845254-89f4-4615-b85c-06013d3fd44a",
   "metadata": {},
   "outputs": [
    {
     "data": {
      "text/html": [
       "<div>\n",
       "<style scoped>\n",
       "    .dataframe tbody tr th:only-of-type {\n",
       "        vertical-align: middle;\n",
       "    }\n",
       "\n",
       "    .dataframe tbody tr th {\n",
       "        vertical-align: top;\n",
       "    }\n",
       "\n",
       "    .dataframe thead th {\n",
       "        text-align: right;\n",
       "    }\n",
       "</style>\n",
       "<table border=\"1\" class=\"dataframe\">\n",
       "  <thead>\n",
       "    <tr style=\"text-align: right;\">\n",
       "      <th></th>\n",
       "      <th>artist</th>\n",
       "      <th>song</th>\n",
       "      <th>text</th>\n",
       "    </tr>\n",
       "  </thead>\n",
       "  <tbody>\n",
       "    <tr>\n",
       "      <th>0</th>\n",
       "      <td>Vince Gill</td>\n",
       "      <td>One</td>\n",
       "      <td>Every little whisper every little sound  \\r\\nB...</td>\n",
       "    </tr>\n",
       "    <tr>\n",
       "      <th>1</th>\n",
       "      <td>George Jones</td>\n",
       "      <td>Barbara Joy</td>\n",
       "      <td>Will you be there in the courtyard for the joy...</td>\n",
       "    </tr>\n",
       "    <tr>\n",
       "      <th>2</th>\n",
       "      <td>Peter Gabriel</td>\n",
       "      <td>Eindringling</td>\n",
       "      <td>Ich find ueberall einlass, ich knacke fenster ...</td>\n",
       "    </tr>\n",
       "    <tr>\n",
       "      <th>3</th>\n",
       "      <td>Nickelback</td>\n",
       "      <td>Photograph</td>\n",
       "      <td>Look at this photograph  \\r\\nEvery time I do i...</td>\n",
       "    </tr>\n",
       "    <tr>\n",
       "      <th>4</th>\n",
       "      <td>Patti Smith</td>\n",
       "      <td>Helpless</td>\n",
       "      <td>[Originally by Neil Young]  \\r\\n  \\r\\nThere is...</td>\n",
       "    </tr>\n",
       "    <tr>\n",
       "      <th>5</th>\n",
       "      <td>Carpenters</td>\n",
       "      <td>Fun, Fun, Fun</td>\n",
       "      <td>Well, she got her daddy's car  \\r\\nAnd she cru...</td>\n",
       "    </tr>\n",
       "    <tr>\n",
       "      <th>6</th>\n",
       "      <td>George Harrison</td>\n",
       "      <td>Shanghai Surprise</td>\n",
       "      <td>I can't understand how I've gone astray  \\r\\nI...</td>\n",
       "    </tr>\n",
       "    <tr>\n",
       "      <th>7</th>\n",
       "      <td>Carol Banawa</td>\n",
       "      <td>I Believe</td>\n",
       "      <td>I see from look in your eyes, there's  \\r\\nSom...</td>\n",
       "    </tr>\n",
       "    <tr>\n",
       "      <th>8</th>\n",
       "      <td>Z-Ro</td>\n",
       "      <td>Guerilla Till I Die</td>\n",
       "      <td>[Hook - 2x]  \\r\\nGuerilla till I die, mama don...</td>\n",
       "    </tr>\n",
       "    <tr>\n",
       "      <th>9</th>\n",
       "      <td>Dewa 19</td>\n",
       "      <td>Air Mata</td>\n",
       "      <td>[Verse 1]  \\r\\nAir mata yang telah jatuh memba...</td>\n",
       "    </tr>\n",
       "  </tbody>\n",
       "</table>\n",
       "</div>"
      ],
      "text/plain": [
       "            artist                 song  \\\n",
       "0       Vince Gill                  One   \n",
       "1     George Jones          Barbara Joy   \n",
       "2    Peter Gabriel         Eindringling   \n",
       "3       Nickelback           Photograph   \n",
       "4      Patti Smith             Helpless   \n",
       "5       Carpenters        Fun, Fun, Fun   \n",
       "6  George Harrison    Shanghai Surprise   \n",
       "7     Carol Banawa            I Believe   \n",
       "8             Z-Ro  Guerilla Till I Die   \n",
       "9          Dewa 19             Air Mata   \n",
       "\n",
       "                                                text  \n",
       "0  Every little whisper every little sound  \\r\\nB...  \n",
       "1  Will you be there in the courtyard for the joy...  \n",
       "2  Ich find ueberall einlass, ich knacke fenster ...  \n",
       "3  Look at this photograph  \\r\\nEvery time I do i...  \n",
       "4  [Originally by Neil Young]  \\r\\n  \\r\\nThere is...  \n",
       "5  Well, she got her daddy's car  \\r\\nAnd she cru...  \n",
       "6  I can't understand how I've gone astray  \\r\\nI...  \n",
       "7  I see from look in your eyes, there's  \\r\\nSom...  \n",
       "8  [Hook - 2x]  \\r\\nGuerilla till I die, mama don...  \n",
       "9  [Verse 1]  \\r\\nAir mata yang telah jatuh memba...  "
      ]
     },
     "execution_count": 61,
     "metadata": {},
     "output_type": "execute_result"
    }
   ],
   "source": [
    "df.head(10)"
   ]
  },
  {
   "cell_type": "code",
   "execution_count": 62,
   "id": "91db9e21-d55d-43b4-91ce-f33b7e1d6abd",
   "metadata": {},
   "outputs": [
    {
     "data": {
      "text/plain": [
       "\"Every little whisper every little sound  \\r\\nBrings me comfort whenever you're around  \\r\\nA heart full of wonder and sweet reverie  \\r\\nGives me a reason a reason to believe  \\r\\n  \\r\\n[Chorus]  \\r\\nForever's just begun  \\r\\nWe'll never turn and run  \\r\\nSlowly we've become  \\r\\nOne, one  \\r\\n  \\r\\nSlowly we've become one  \\r\\nI love the way we're different  \\r\\nAnd the way we're the same  \\r\\nMaking love to each other  \\r\\nIs like shelter from the rain  \\r\\n  \\r\\nIsn't it amazing  \\r\\nWhat I see in your eyes  \\r\\nI'll be your partner  \\r\\nAnd never leave your side  \\r\\n  \\r\\n[Chorus]\\r\\n\\r\\n\""
      ]
     },
     "execution_count": 62,
     "metadata": {},
     "output_type": "execute_result"
    }
   ],
   "source": [
    "df['text'][0]"
   ]
  },
  {
   "cell_type": "code",
   "execution_count": 63,
   "id": "53ea53c3-9473-4fac-b122-d88d29d56606",
   "metadata": {},
   "outputs": [
    {
     "data": {
      "text/plain": [
       "(5000, 3)"
      ]
     },
     "execution_count": 63,
     "metadata": {},
     "output_type": "execute_result"
    }
   ],
   "source": [
    "df.shape"
   ]
  },
  {
   "cell_type": "markdown",
   "id": "184dccbd-178c-4dcd-bb8b-69ab55367715",
   "metadata": {},
   "source": [
    "# **TEXT CLEANING/TEXT PREPROCESSING**"
   ]
  },
  {
   "cell_type": "code",
   "execution_count": 65,
   "id": "939b0aba-6028-415b-b447-c4426b92cb05",
   "metadata": {},
   "outputs": [],
   "source": [
    "df['text'] = df['text'].str.lower().replace(r'^\\w\\s', ' ').replace(r'\\n', ' ', regex = True)\n"
   ]
  },
  {
   "cell_type": "code",
   "execution_count": 69,
   "id": "cebbb721-869a-4be9-b575-256241fe01c3",
   "metadata": {},
   "outputs": [
    {
     "name": "stderr",
     "output_type": "stream",
     "text": [
      "[nltk_data] Downloading package punkt to\n",
      "[nltk_data]     C:\\Users\\KOWSALYA\\AppData\\Roaming\\nltk_data...\n",
      "[nltk_data]   Unzipping tokenizers\\punkt.zip.\n"
     ]
    }
   ],
   "source": [
    "import nltk\n",
    "nltk.download('punkt')\n",
    "from nltk.stem.porter import PorterStemmer\n",
    "stemmer = PorterStemmer()\n",
    "\n",
    "def tokenization(txt):\n",
    "    tokens = nltk.word_tokenize(txt)\n",
    "    stemming = [stemmer.stem(w) for w in tokens]\n",
    "    return \" \".join(stemming)"
   ]
  },
  {
   "cell_type": "code",
   "execution_count": 71,
   "id": "29db5df5-2980-47b5-94b9-219fd6cc2039",
   "metadata": {},
   "outputs": [],
   "source": [
    "df['text'] = df['text'].apply(lambda x: tokenization(x))\n"
   ]
  },
  {
   "cell_type": "code",
   "execution_count": 73,
   "id": "4deb71e1-460e-404b-8f30-dc77743f3cdb",
   "metadata": {},
   "outputs": [],
   "source": [
    "from sklearn.feature_extraction.text import TfidfVectorizer\n",
    "from sklearn.metrics.pairwise import cosine_similarity"
   ]
  },
  {
   "cell_type": "code",
   "execution_count": 75,
   "id": "17c72612-e577-418d-b22d-b8ec83c5168e",
   "metadata": {},
   "outputs": [],
   "source": [
    "tfidvector = TfidfVectorizer(analyzer='word',stop_words='english')\n",
    "matrix = tfidvector.fit_transform(df['text'])\n",
    "similarity = cosine_similarity(matrix)"
   ]
  },
  {
   "cell_type": "code",
   "execution_count": 77,
   "id": "55b269ae-0632-4ba8-abeb-fa05da28c61e",
   "metadata": {},
   "outputs": [
    {
     "data": {
      "text/plain": [
       "array([1.        , 0.0171981 , 0.        , ..., 0.05675147, 0.01491873,\n",
       "       0.05773865])"
      ]
     },
     "execution_count": 77,
     "metadata": {},
     "output_type": "execute_result"
    }
   ],
   "source": [
    "similarity[0]\n"
   ]
  },
  {
   "cell_type": "code",
   "execution_count": 79,
   "id": "948a4684-8037-4646-b134-f63ddd03cf84",
   "metadata": {},
   "outputs": [
    {
     "data": {
      "text/html": [
       "<div>\n",
       "<style scoped>\n",
       "    .dataframe tbody tr th:only-of-type {\n",
       "        vertical-align: middle;\n",
       "    }\n",
       "\n",
       "    .dataframe tbody tr th {\n",
       "        vertical-align: top;\n",
       "    }\n",
       "\n",
       "    .dataframe thead th {\n",
       "        text-align: right;\n",
       "    }\n",
       "</style>\n",
       "<table border=\"1\" class=\"dataframe\">\n",
       "  <thead>\n",
       "    <tr style=\"text-align: right;\">\n",
       "      <th></th>\n",
       "      <th>artist</th>\n",
       "      <th>song</th>\n",
       "      <th>text</th>\n",
       "    </tr>\n",
       "  </thead>\n",
       "  <tbody>\n",
       "    <tr>\n",
       "      <th>1650</th>\n",
       "      <td>UB40</td>\n",
       "      <td>Crying Over You</td>\n",
       "      <td>cri over you in the morn cri over you in the e...</td>\n",
       "    </tr>\n",
       "  </tbody>\n",
       "</table>\n",
       "</div>"
      ],
      "text/plain": [
       "     artist             song  \\\n",
       "1650   UB40  Crying Over You   \n",
       "\n",
       "                                                   text  \n",
       "1650  cri over you in the morn cri over you in the e...  "
      ]
     },
     "execution_count": 79,
     "metadata": {},
     "output_type": "execute_result"
    }
   ],
   "source": [
    "df[df['song'] == 'Crying Over You']\n"
   ]
  },
  {
   "cell_type": "code",
   "execution_count": 81,
   "id": "90088ff3-0584-49ee-895b-c0530e68c0bc",
   "metadata": {},
   "outputs": [],
   "source": [
    "def recommendation(song_df):\n",
    "    idx = df[df['song'] == song_df].index[0]\n",
    "    distances = sorted(list(enumerate(similarity[idx])),reverse=True,key=lambda x:x[1])\n",
    "    \n",
    "    songs = []\n",
    "    for m_id in distances[1:21]:\n",
    "        songs.append(df.iloc[m_id[0]].song)\n",
    "        \n",
    "    return songs"
   ]
  },
  {
   "cell_type": "code",
   "execution_count": 83,
   "id": "a51474e5-effe-40b9-b41a-c62fe5a33abb",
   "metadata": {},
   "outputs": [
    {
     "data": {
      "text/plain": [
       "[\"Cry, Cry Darlin'\",\n",
       " 'I Never Cry',\n",
       " 'Everyday I Have To Cry',\n",
       " \"If It Don't Work Out\",\n",
       " 'He Cried',\n",
       " 'Cry Like A Baby',\n",
       " 'The Boy In The Bubble',\n",
       " 'When You Cry',\n",
       " \"You're The One\",\n",
       " \"Cryin' Time\",\n",
       " \"Call Me When You're Sober\",\n",
       " \"I'm Sorry\",\n",
       " 'No Woman No Cry',\n",
       " 'You Made Me Love You',\n",
       " 'Laugh To Keep From Crying',\n",
       " 'Angels Cry',\n",
       " 'Crying Time',\n",
       " 'The Crying Game',\n",
       " 'Nobody Knows The Way I Feel This Morning',\n",
       " 'Hold Out']"
      ]
     },
     "execution_count": 83,
     "metadata": {},
     "output_type": "execute_result"
    }
   ],
   "source": [
    "recommendation('Crying Over You')\n"
   ]
  },
  {
   "cell_type": "code",
   "execution_count": 85,
   "id": "f08143ab-cee7-4aaf-b98e-fb106ca61d73",
   "metadata": {},
   "outputs": [],
   "source": [
    "import pickle\n",
    "pickle.dump(similarity,open('similarity.pkl','wb'))\n",
    "pickle.dump(df,open('df.pkl','wb'))"
   ]
  },
  {
   "cell_type": "code",
   "execution_count": null,
   "id": "d8abaaa9-d4f2-48ac-bc91-f824ddec7368",
   "metadata": {},
   "outputs": [],
   "source": []
  }
 ],
 "metadata": {
  "kernelspec": {
   "display_name": "Python 3 (ipykernel)",
   "language": "python",
   "name": "python3"
  },
  "language_info": {
   "codemirror_mode": {
    "name": "ipython",
    "version": 3
   },
   "file_extension": ".py",
   "mimetype": "text/x-python",
   "name": "python",
   "nbconvert_exporter": "python",
   "pygments_lexer": "ipython3",
   "version": "3.12.4"
  }
 },
 "nbformat": 4,
 "nbformat_minor": 5
}
